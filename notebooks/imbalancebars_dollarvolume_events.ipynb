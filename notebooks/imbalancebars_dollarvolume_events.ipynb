{
 "cells": [
  {
   "cell_type": "code",
   "execution_count": null,
   "metadata": {},
   "outputs": [],
   "source": [
    "%load_ext autoreload\n",
    "%autoreload 2"
   ]
  },
  {
   "cell_type": "code",
   "execution_count": null,
   "metadata": {},
   "outputs": [],
   "source": [
    "import pandas as pd\n",
    "import numpy as np\n",
    "import matplotlib.pyplot as plt\n",
    "import seaborn as sns"
   ]
  },
  {
   "cell_type": "code",
   "execution_count": 3,
   "metadata": {},
   "outputs": [],
   "source": [
    "import tickbars"
   ]
  },
  {
   "cell_type": "code",
   "execution_count": 4,
   "metadata": {},
   "outputs": [],
   "source": [
    "raw_data = pd.read_csv('ESU13_tickdata.csv')\n",
    "data_indexed = raw_data.copy()\n",
    "data_indexed['time'] = pd.to_datetime(data_indexed['time'], format='%m/%d/%Y %H:%M:%S.%f')"
   ]
  },
  {
   "cell_type": "code",
   "execution_count": 5,
   "metadata": {},
   "outputs": [],
   "source": [
    "imbalance = tickbars.tick_rule(data_indexed['price'])"
   ]
  },
  {
   "cell_type": "code",
   "execution_count": 6,
   "metadata": {},
   "outputs": [],
   "source": [
    "dollar_volume_imbalance = imbalance*data_indexed['volume']*data_indexed['price']"
   ]
  },
  {
   "cell_type": "code",
   "execution_count": 7,
   "metadata": {},
   "outputs": [],
   "source": [
    "ties = tickbars.ImbalanceEvents(dollar_volume_imbalance, 100000, dollar_volume_imbalance.mean().item(), 2*1e-5)"
   ]
  },
  {
   "cell_type": "code",
   "execution_count": 8,
   "metadata": {},
   "outputs": [],
   "source": [
    "tick_imb_tevents = ties.get_events()"
   ]
  },
  {
   "cell_type": "code",
   "execution_count": 9,
   "metadata": {},
   "outputs": [
    {
     "data": {
      "text/html": [
       "<div>\n",
       "<style scoped>\n",
       "    .dataframe tbody tr th:only-of-type {\n",
       "        vertical-align: middle;\n",
       "    }\n",
       "\n",
       "    .dataframe tbody tr th {\n",
       "        vertical-align: top;\n",
       "    }\n",
       "\n",
       "    .dataframe thead th {\n",
       "        text-align: right;\n",
       "    }\n",
       "</style>\n",
       "<table border=\"1\" class=\"dataframe\">\n",
       "  <thead>\n",
       "    <tr style=\"text-align: right;\">\n",
       "      <th></th>\n",
       "      <th>threshold</th>\n",
       "      <th>time</th>\n",
       "    </tr>\n",
       "    <tr>\n",
       "      <th>tevent</th>\n",
       "      <th></th>\n",
       "      <th></th>\n",
       "    </tr>\n",
       "  </thead>\n",
       "  <tbody>\n",
       "    <tr>\n",
       "      <th>3975</th>\n",
       "      <td>7.130882e+06</td>\n",
       "      <td>2013-09-01 17:41:03.230</td>\n",
       "    </tr>\n",
       "    <tr>\n",
       "      <th>44804</th>\n",
       "      <td>2.036558e+07</td>\n",
       "      <td>2013-09-02 07:34:09.259</td>\n",
       "    </tr>\n",
       "    <tr>\n",
       "      <th>312219</th>\n",
       "      <td>3.278288e+07</td>\n",
       "      <td>2013-09-03 10:27:34.431</td>\n",
       "    </tr>\n",
       "    <tr>\n",
       "      <th>785185</th>\n",
       "      <td>6.670344e+07</td>\n",
       "      <td>2013-09-04 10:07:32.380</td>\n",
       "    </tr>\n",
       "    <tr>\n",
       "      <th>987367</th>\n",
       "      <td>4.600804e+07</td>\n",
       "      <td>2013-09-04 16:13:09.192</td>\n",
       "    </tr>\n",
       "    <tr>\n",
       "      <th>1560998</th>\n",
       "      <td>5.657525e+07</td>\n",
       "      <td>2013-09-06 09:03:39.051</td>\n",
       "    </tr>\n",
       "    <tr>\n",
       "      <th>1697821</th>\n",
       "      <td>5.932916e+07</td>\n",
       "      <td>2013-09-06 10:00:20.287</td>\n",
       "    </tr>\n",
       "    <tr>\n",
       "      <th>1921445</th>\n",
       "      <td>4.985440e+07</td>\n",
       "      <td>2013-09-06 14:55:42.542</td>\n",
       "    </tr>\n",
       "    <tr>\n",
       "      <th>2206791</th>\n",
       "      <td>4.598020e+07</td>\n",
       "      <td>2013-09-09 13:15:20.944</td>\n",
       "    </tr>\n",
       "    <tr>\n",
       "      <th>2313190</th>\n",
       "      <td>5.798503e+07</td>\n",
       "      <td>2013-09-10 02:44:59.526</td>\n",
       "    </tr>\n",
       "    <tr>\n",
       "      <th>2916476</th>\n",
       "      <td>6.247114e+07</td>\n",
       "      <td>2013-09-11 10:32:35.681</td>\n",
       "    </tr>\n",
       "    <tr>\n",
       "      <th>3354192</th>\n",
       "      <td>6.965848e+07</td>\n",
       "      <td>2013-09-12 16:14:58.709</td>\n",
       "    </tr>\n",
       "  </tbody>\n",
       "</table>\n",
       "</div>"
      ],
      "text/plain": [
       "            threshold                    time\n",
       "tevent                                       \n",
       "3975     7.130882e+06 2013-09-01 17:41:03.230\n",
       "44804    2.036558e+07 2013-09-02 07:34:09.259\n",
       "312219   3.278288e+07 2013-09-03 10:27:34.431\n",
       "785185   6.670344e+07 2013-09-04 10:07:32.380\n",
       "987367   4.600804e+07 2013-09-04 16:13:09.192\n",
       "1560998  5.657525e+07 2013-09-06 09:03:39.051\n",
       "1697821  5.932916e+07 2013-09-06 10:00:20.287\n",
       "1921445  4.985440e+07 2013-09-06 14:55:42.542\n",
       "2206791  4.598020e+07 2013-09-09 13:15:20.944\n",
       "2313190  5.798503e+07 2013-09-10 02:44:59.526\n",
       "2916476  6.247114e+07 2013-09-11 10:32:35.681\n",
       "3354192  6.965848e+07 2013-09-12 16:14:58.709"
      ]
     },
     "execution_count": 9,
     "metadata": {},
     "output_type": "execute_result"
    }
   ],
   "source": [
    "tick_imb_tevents['time'] = data_indexed.loc[tick_imb_tevents.index, 'time']\n",
    "tick_imb_tevents['time'] = pd.to_datetime(tick_imb_tevents['time'], format='%m/%d/%Y %H:%M:%S.%f')\n",
    "tick_imb_tevents"
   ]
  },
  {
   "cell_type": "code",
   "execution_count": 10,
   "metadata": {},
   "outputs": [],
   "source": [
    "statistics = pd.DataFrame({'value': ties.statistics, 'time': data_indexed.loc[ties.statistics.index, 'time']})"
   ]
  },
  {
   "cell_type": "code",
   "execution_count": 11,
   "metadata": {},
   "outputs": [
    {
     "data": {
      "image/png": "[encoded data removed]",
      "text/plain": [
       "<Figure size 1080x360 with 1 Axes>"
      ]
     },
     "metadata": {
      "needs_background": "light"
     },
     "output_type": "display_data"
    }
   ],
   "source": [
    "plt.figure(figsize=(15, 5))\n",
    "plt.plot(statistics['time'], statistics['value'])\n",
    "plt.step(tick_imb_tevents['time'], tick_imb_tevents['threshold'], where='pre')\n",
    "plt.show()"
   ]
  },
  {
   "cell_type": "code",
   "execution_count": 12,
   "metadata": {},
   "outputs": [],
   "source": [
    "data_indexed['grp'] = 0\n",
    "data_indexed.loc[tick_imb_tevents.index[:-1], 'grp'] = 1\n",
    "data_indexed['grp'] = np.cumsum(data_indexed['grp'])\n",
    "data_tick_vwap = tickbars.create_bars(data_indexed, 'grp', tickbars.compute_bar)"
   ]
  },
  {
   "cell_type": "code",
   "execution_count": 13,
   "metadata": {},
   "outputs": [
    {
     "data": {
      "text/html": [
       "<div>\n",
       "<style scoped>\n",
       "    .dataframe tbody tr th:only-of-type {\n",
       "        vertical-align: middle;\n",
       "    }\n",
       "\n",
       "    .dataframe tbody tr th {\n",
       "        vertical-align: top;\n",
       "    }\n",
       "\n",
       "    .dataframe thead th {\n",
       "        text-align: right;\n",
       "    }\n",
       "</style>\n",
       "<table border=\"1\" class=\"dataframe\">\n",
       "  <thead>\n",
       "    <tr style=\"text-align: right;\">\n",
       "      <th></th>\n",
       "      <th>time</th>\n",
       "      <th>open</th>\n",
       "      <th>high</th>\n",
       "      <th>low</th>\n",
       "      <th>close</th>\n",
       "      <th>volume</th>\n",
       "      <th>vwap</th>\n",
       "      <th>duration</th>\n",
       "      <th>ticks</th>\n",
       "    </tr>\n",
       "  </thead>\n",
       "  <tbody>\n",
       "    <tr>\n",
       "      <th>0</th>\n",
       "      <td>2013-09-01 17:40:57.851</td>\n",
       "      <td>1640.25</td>\n",
       "      <td>1642.00</td>\n",
       "      <td>1639.00</td>\n",
       "      <td>1641.25</td>\n",
       "      <td>17452</td>\n",
       "      <td>1640.502707</td>\n",
       "      <td>2457.768</td>\n",
       "      <td>3975</td>\n",
       "    </tr>\n",
       "    <tr>\n",
       "      <th>1</th>\n",
       "      <td>2013-09-02 07:34:09.259</td>\n",
       "      <td>1641.50</td>\n",
       "      <td>1648.50</td>\n",
       "      <td>1639.75</td>\n",
       "      <td>1647.75</td>\n",
       "      <td>129738</td>\n",
       "      <td>1644.742340</td>\n",
       "      <td>49986.029</td>\n",
       "      <td>40829</td>\n",
       "    </tr>\n",
       "    <tr>\n",
       "      <th>2</th>\n",
       "      <td>2013-09-03 10:27:34.431</td>\n",
       "      <td>1647.75</td>\n",
       "      <td>1650.00</td>\n",
       "      <td>1639.50</td>\n",
       "      <td>1639.50</td>\n",
       "      <td>966171</td>\n",
       "      <td>1646.016588</td>\n",
       "      <td>96805.172</td>\n",
       "      <td>267415</td>\n",
       "    </tr>\n",
       "    <tr>\n",
       "      <th>3</th>\n",
       "      <td>2013-09-04 10:07:32.380</td>\n",
       "      <td>1639.50</td>\n",
       "      <td>1649.50</td>\n",
       "      <td>1630.75</td>\n",
       "      <td>1649.50</td>\n",
       "      <td>1873613</td>\n",
       "      <td>1638.376089</td>\n",
       "      <td>85197.949</td>\n",
       "      <td>472966</td>\n",
       "    </tr>\n",
       "    <tr>\n",
       "      <th>4</th>\n",
       "      <td>2013-09-04 16:13:09.187</td>\n",
       "      <td>1649.50</td>\n",
       "      <td>1655.00</td>\n",
       "      <td>1648.00</td>\n",
       "      <td>1655.00</td>\n",
       "      <td>910602</td>\n",
       "      <td>1651.829286</td>\n",
       "      <td>21936.807</td>\n",
       "      <td>202182</td>\n",
       "    </tr>\n",
       "    <tr>\n",
       "      <th>5</th>\n",
       "      <td>2013-09-06 09:03:39.051</td>\n",
       "      <td>1655.00</td>\n",
       "      <td>1663.50</td>\n",
       "      <td>1641.00</td>\n",
       "      <td>1641.00</td>\n",
       "      <td>2158190</td>\n",
       "      <td>1653.738034</td>\n",
       "      <td>147029.859</td>\n",
       "      <td>573631</td>\n",
       "    </tr>\n",
       "    <tr>\n",
       "      <th>6</th>\n",
       "      <td>2013-09-06 10:00:20.287</td>\n",
       "      <td>1641.00</td>\n",
       "      <td>1657.75</td>\n",
       "      <td>1638.75</td>\n",
       "      <td>1657.75</td>\n",
       "      <td>517178</td>\n",
       "      <td>1648.555541</td>\n",
       "      <td>3401.236</td>\n",
       "      <td>136823</td>\n",
       "    </tr>\n",
       "    <tr>\n",
       "      <th>7</th>\n",
       "      <td>2013-09-06 14:55:42.370</td>\n",
       "      <td>1657.75</td>\n",
       "      <td>1664.00</td>\n",
       "      <td>1654.25</td>\n",
       "      <td>1654.75</td>\n",
       "      <td>933334</td>\n",
       "      <td>1659.157587</td>\n",
       "      <td>17722.083</td>\n",
       "      <td>223624</td>\n",
       "    </tr>\n",
       "    <tr>\n",
       "      <th>8</th>\n",
       "      <td>2013-09-09 13:15:20.944</td>\n",
       "      <td>1654.75</td>\n",
       "      <td>1669.75</td>\n",
       "      <td>1652.00</td>\n",
       "      <td>1669.25</td>\n",
       "      <td>1150988</td>\n",
       "      <td>1661.480318</td>\n",
       "      <td>253178.402</td>\n",
       "      <td>285346</td>\n",
       "    </tr>\n",
       "    <tr>\n",
       "      <th>9</th>\n",
       "      <td>2013-09-10 02:44:59.526</td>\n",
       "      <td>1669.50</td>\n",
       "      <td>1674.75</td>\n",
       "      <td>1668.25</td>\n",
       "      <td>1674.75</td>\n",
       "      <td>492052</td>\n",
       "      <td>1670.433949</td>\n",
       "      <td>48578.582</td>\n",
       "      <td>106399</td>\n",
       "    </tr>\n",
       "    <tr>\n",
       "      <th>10</th>\n",
       "      <td>2013-09-11 10:32:35.681</td>\n",
       "      <td>1674.75</td>\n",
       "      <td>1684.00</td>\n",
       "      <td>1674.50</td>\n",
       "      <td>1684.00</td>\n",
       "      <td>2446328</td>\n",
       "      <td>1680.510511</td>\n",
       "      <td>114456.155</td>\n",
       "      <td>603286</td>\n",
       "    </tr>\n",
       "    <tr>\n",
       "      <th>11</th>\n",
       "      <td>2013-09-12 16:14:58.709</td>\n",
       "      <td>1684.00</td>\n",
       "      <td>1690.50</td>\n",
       "      <td>1681.25</td>\n",
       "      <td>1685.50</td>\n",
       "      <td>1850017</td>\n",
       "      <td>1685.860617</td>\n",
       "      <td>106943.028</td>\n",
       "      <td>437717</td>\n",
       "    </tr>\n",
       "  </tbody>\n",
       "</table>\n",
       "</div>"
      ],
      "text/plain": [
       "                      time     open     high      low    close   volume  \\\n",
       "0  2013-09-01 17:40:57.851  1640.25  1642.00  1639.00  1641.25    17452   \n",
       "1  2013-09-02 07:34:09.259  1641.50  1648.50  1639.75  1647.75   129738   \n",
       "2  2013-09-03 10:27:34.431  1647.75  1650.00  1639.50  1639.50   966171   \n",
       "3  2013-09-04 10:07:32.380  1639.50  1649.50  1630.75  1649.50  1873613   \n",
       "4  2013-09-04 16:13:09.187  1649.50  1655.00  1648.00  1655.00   910602   \n",
       "5  2013-09-06 09:03:39.051  1655.00  1663.50  1641.00  1641.00  2158190   \n",
       "6  2013-09-06 10:00:20.287  1641.00  1657.75  1638.75  1657.75   517178   \n",
       "7  2013-09-06 14:55:42.370  1657.75  1664.00  1654.25  1654.75   933334   \n",
       "8  2013-09-09 13:15:20.944  1654.75  1669.75  1652.00  1669.25  1150988   \n",
       "9  2013-09-10 02:44:59.526  1669.50  1674.75  1668.25  1674.75   492052   \n",
       "10 2013-09-11 10:32:35.681  1674.75  1684.00  1674.50  1684.00  2446328   \n",
       "11 2013-09-12 16:14:58.709  1684.00  1690.50  1681.25  1685.50  1850017   \n",
       "\n",
       "           vwap    duration   ticks  \n",
       "0   1640.502707    2457.768    3975  \n",
       "1   1644.742340   49986.029   40829  \n",
       "2   1646.016588   96805.172  267415  \n",
       "3   1638.376089   85197.949  472966  \n",
       "4   1651.829286   21936.807  202182  \n",
       "5   1653.738034  147029.859  573631  \n",
       "6   1648.555541    3401.236  136823  \n",
       "7   1659.157587   17722.083  223624  \n",
       "8   1661.480318  253178.402  285346  \n",
       "9   1670.433949   48578.582  106399  \n",
       "10  1680.510511  114456.155  603286  \n",
       "11  1685.860617  106943.028  437717  "
      ]
     },
     "execution_count": 13,
     "metadata": {},
     "output_type": "execute_result"
    }
   ],
   "source": [
    "data_tick_vwap"
   ]
  },
  {
   "cell_type": "code",
   "execution_count": 14,
   "metadata": {},
   "outputs": [
    {
     "data": {
      "image/png": "[encoded data removed]",
      "text/plain": [
       "<Figure size 1440x360 with 1 Axes>"
      ]
     },
     "metadata": {
      "needs_background": "light"
     },
     "output_type": "display_data"
    }
   ],
   "source": [
    "plt.figure(figsize=(20, 5))\n",
    "plt.plot(data_indexed.time, data_indexed.price)\n",
    "plt.step(data_tick_vwap['time'], data_tick_vwap['vwap'], where='pre')\n",
    "plt.show()"
   ]
  },
  {
   "cell_type": "code",
   "execution_count": null,
   "metadata": {},
   "outputs": [],
   "source": []
  }
 ],
 "metadata": {
  "kernelspec": {
   "display_name": "Python 3.7.4 64-bit ('afml': venv)",
   "language": "python",
   "name": "python37464bitafmlvenvc7329fc4ec4c463eb5286d30ad3c7824"
  },
  "language_info": {
   "codemirror_mode": {
    "name": "ipython",
    "version": 3
   },
   "file_extension": ".py",
   "mimetype": "text/x-python",
   "name": "python",
   "nbconvert_exporter": "python",
   "pygments_lexer": "ipython3",
   "version": "3.7.4"
  }
 },
 "nbformat": 4,
 "nbformat_minor": 4
}
