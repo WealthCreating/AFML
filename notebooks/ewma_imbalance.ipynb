{
 "cells": [
  {
   "cell_type": "code",
   "execution_count": null,
   "metadata": {},
   "outputs": [],
   "source": [
    "%load_ext autoreload\n",
    "%autoreload 2"
   ]
  },
  {
   "cell_type": "code",
   "execution_count": null,
   "metadata": {},
   "outputs": [],
   "source": [
    "import pandas as pd\n",
    "import numpy as np\n",
    "import matplotlib.pyplot as plt\n",
    "import seaborn as sns\n",
    "\n",
    "import tickbars\n",
    "\n",
    "raw_data = pd.read_csv('ESU13_tickdata.csv')\n",
    "\n",
    "imb = pd.Series(tickbars.compute_imbalance(raw_data))\n",
    "first_null = sum(imb.isnull())\n",
    "imb = imb[first_null:]\n",
    "\n",
    "f_imb = 0 # np.mean(imb)\n",
    "_lambda = 0.999\n",
    "S = []\n",
    "for i in imb:\n",
    "    f_imb = _lambda*f_imb + (1-_lambda)*i\n",
    "    S.append(f_imb)\n",
    "f_imb\n",
    "\n",
    "plt.plot(S[-1000:])"
   ]
  },
  {
   "cell_type": "code",
   "execution_count": null,
   "metadata": {},
   "outputs": [],
   "source": []
  }
 ],
 "metadata": {
  "language_info": {
   "codemirror_mode": {
    "name": "ipython",
    "version": 3
   },
   "file_extension": ".py",
   "mimetype": "text/x-python",
   "name": "python",
   "nbconvert_exporter": "python",
   "pygments_lexer": "ipython3",
   "version": 3
  },
  "orig_nbformat": 2
 },
 "nbformat": 4,
 "nbformat_minor": 2
}