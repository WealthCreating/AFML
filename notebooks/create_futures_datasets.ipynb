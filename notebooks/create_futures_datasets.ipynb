{
 "cells": [
  {
   "cell_type": "code",
   "execution_count": 1,
   "metadata": {},
   "outputs": [],
   "source": [
    "%load_ext autoreload\n",
    "%autoreload 2"
   ]
  },
  {
   "cell_type": "code",
   "execution_count": 2,
   "metadata": {},
   "outputs": [],
   "source": [
    "import pandas as pd\n",
    "import numpy as np\n",
    "import matplotlib.pyplot as plt\n",
    "import matplotlib.dates as mdates\n",
    "import seaborn as sns\n",
    "from datetime import datetime\n",
    "import tickbars"
   ]
  },
  {
   "cell_type": "code",
   "execution_count": 3,
   "metadata": {},
   "outputs": [],
   "source": [
    "raw_data = pd.read_csv('ES_Trades.csv')"
   ]
  },
  {
   "cell_type": "code",
   "execution_count": 4,
   "metadata": {},
   "outputs": [
    {
     "data": {
      "text/html": [
       "<div>\n",
       "<style scoped>\n",
       "    .dataframe tbody tr th:only-of-type {\n",
       "        vertical-align: middle;\n",
       "    }\n",
       "\n",
       "    .dataframe tbody tr th {\n",
       "        vertical-align: top;\n",
       "    }\n",
       "\n",
       "    .dataframe thead th {\n",
       "        text-align: right;\n",
       "    }\n",
       "</style>\n",
       "<table border=\"1\" class=\"dataframe\">\n",
       "  <thead>\n",
       "    <tr style=\"text-align: right;\">\n",
       "      <th></th>\n",
       "      <th>Symbol</th>\n",
       "      <th>Date</th>\n",
       "      <th>Time</th>\n",
       "      <th>Price</th>\n",
       "      <th>Volume</th>\n",
       "      <th>Market Flag</th>\n",
       "      <th>Sales Condition</th>\n",
       "      <th>Exclude Record Flag</th>\n",
       "      <th>Unfiltered Price</th>\n",
       "    </tr>\n",
       "  </thead>\n",
       "  <tbody>\n",
       "    <tr>\n",
       "      <th>0</th>\n",
       "      <td>ESU13</td>\n",
       "      <td>09/01/2013</td>\n",
       "      <td>17:00:00.083</td>\n",
       "      <td>1640.25</td>\n",
       "      <td>8</td>\n",
       "      <td>E</td>\n",
       "      <td>0</td>\n",
       "      <td>NaN</td>\n",
       "      <td>1640.25</td>\n",
       "    </tr>\n",
       "    <tr>\n",
       "      <th>1</th>\n",
       "      <td>ESU13</td>\n",
       "      <td>09/01/2013</td>\n",
       "      <td>17:00:00.083</td>\n",
       "      <td>1640.25</td>\n",
       "      <td>1</td>\n",
       "      <td>E</td>\n",
       "      <td>0</td>\n",
       "      <td>NaN</td>\n",
       "      <td>1640.25</td>\n",
       "    </tr>\n",
       "    <tr>\n",
       "      <th>2</th>\n",
       "      <td>ESU13</td>\n",
       "      <td>09/01/2013</td>\n",
       "      <td>17:00:00.083</td>\n",
       "      <td>1640.25</td>\n",
       "      <td>2</td>\n",
       "      <td>E</td>\n",
       "      <td>0</td>\n",
       "      <td>NaN</td>\n",
       "      <td>1640.25</td>\n",
       "    </tr>\n",
       "    <tr>\n",
       "      <th>3</th>\n",
       "      <td>ESU13</td>\n",
       "      <td>09/01/2013</td>\n",
       "      <td>17:00:00.083</td>\n",
       "      <td>1640.25</td>\n",
       "      <td>1</td>\n",
       "      <td>E</td>\n",
       "      <td>0</td>\n",
       "      <td>NaN</td>\n",
       "      <td>1640.25</td>\n",
       "    </tr>\n",
       "    <tr>\n",
       "      <th>4</th>\n",
       "      <td>ESU13</td>\n",
       "      <td>09/01/2013</td>\n",
       "      <td>17:00:00.083</td>\n",
       "      <td>1640.25</td>\n",
       "      <td>1</td>\n",
       "      <td>E</td>\n",
       "      <td>0</td>\n",
       "      <td>NaN</td>\n",
       "      <td>1640.25</td>\n",
       "    </tr>\n",
       "  </tbody>\n",
       "</table>\n",
       "</div>"
      ],
      "text/plain": [
       "  Symbol        Date          Time    Price  Volume Market Flag  \\\n",
       "0  ESU13  09/01/2013  17:00:00.083  1640.25       8           E   \n",
       "1  ESU13  09/01/2013  17:00:00.083  1640.25       1           E   \n",
       "2  ESU13  09/01/2013  17:00:00.083  1640.25       2           E   \n",
       "3  ESU13  09/01/2013  17:00:00.083  1640.25       1           E   \n",
       "4  ESU13  09/01/2013  17:00:00.083  1640.25       1           E   \n",
       "\n",
       "   Sales Condition  Exclude Record Flag  Unfiltered Price  \n",
       "0                0                  NaN           1640.25  \n",
       "1                0                  NaN           1640.25  \n",
       "2                0                  NaN           1640.25  \n",
       "3                0                  NaN           1640.25  \n",
       "4                0                  NaN           1640.25  "
      ]
     },
     "execution_count": 4,
     "metadata": {},
     "output_type": "execute_result"
    }
   ],
   "source": [
    "raw_data.head()"
   ]
  },
  {
   "cell_type": "code",
   "execution_count": 5,
   "metadata": {},
   "outputs": [
    {
     "data": {
      "text/plain": [
       "Symbol  Date      \n",
       "ESU13   09/01/2013     13641\n",
       "        09/02/2013     52680\n",
       "        09/03/2013    540213\n",
       "        09/04/2013    387501\n",
       "        09/05/2013    324763\n",
       "        09/06/2013    624433\n",
       "        09/08/2013     11636\n",
       "        09/09/2013    346178\n",
       "        09/10/2013    422176\n",
       "        09/11/2013    362444\n",
       "        09/12/2013    268528\n",
       "ESZ13   09/12/2013      4397\n",
       "        09/13/2013    192431\n",
       "        09/15/2013     24073\n",
       "        09/16/2013    348220\n",
       "        09/17/2013    234859\n",
       "        09/18/2013    497058\n",
       "        09/19/2013    394034\n",
       "        09/20/2013    405685\n",
       "Name: Price, dtype: int64"
      ]
     },
     "execution_count": 5,
     "metadata": {},
     "output_type": "execute_result"
    }
   ],
   "source": [
    "raw_data.groupby(['Symbol', 'Date'])['Price'].count()"
   ]
  },
  {
   "cell_type": "code",
   "execution_count": 6,
   "metadata": {},
   "outputs": [],
   "source": [
    "ESU13_data = raw_data[raw_data['Symbol'] == 'ESU13'][['Symbol', 'Date', 'Time', 'Volume', 'Unfiltered Price']]\n",
    "ESU13_data['time'] = ESU13_data['Date'].str.cat(ESU13_data['Time'], sep=' ')\n",
    "ESU13_data['time'] = pd.to_datetime(ESU13_data['time'], format='%m/%d/%Y %H:%M:%S.%f')\n",
    "ESU13_data = ESU13_data.rename(columns={'Symbol': 'symbol', 'Volume': 'volume', 'Unfiltered Price': 'price'})\n",
    "ESU13_data = ESU13_data.drop(columns=['Date', 'Time'])\n",
    "ESU13_data = ESU13_data.iloc[:,[0,3,2,1]]"
   ]
  },
  {
   "cell_type": "code",
   "execution_count": 7,
   "metadata": {},
   "outputs": [],
   "source": [
    "ESZ13_data = raw_data[raw_data['Symbol'] == 'ESZ13'][['Symbol', 'Date', 'Time', 'Volume', 'Unfiltered Price']]\n",
    "ESZ13_data['time'] = ESZ13_data['Date'].str.cat(ESZ13_data['Time'], sep=' ')\n",
    "ESZ13_data['time'] = pd.to_datetime(ESZ13_data['time'], format='%m/%d/%Y %H:%M:%S.%f')\n",
    "ESZ13_data = ESZ13_data.rename(columns={'Symbol': 'symbol', 'Volume': 'volume', 'Unfiltered Price': 'price'})\n",
    "ESZ13_data = ESZ13_data.drop(columns=['Date', 'Time'])\n",
    "ESZ13_data = ESZ13_data.iloc[:,[0,3,2,1]]"
   ]
  },
  {
   "cell_type": "code",
   "execution_count": 8,
   "metadata": {},
   "outputs": [],
   "source": [
    "ESU13_data.to_csv('ESU13.csv', index=False)\n",
    "ESZ13_data.to_csv('ESZ13.csv', index=False)"
   ]
  }
 ],
 "metadata": {
  "kernelspec": {
   "display_name": "Python 3.7.4 64-bit ('afml': venv)",
   "language": "python",
   "name": "python37464bitafmlvenvc7329fc4ec4c463eb5286d30ad3c7824"
  },
  "language_info": {
   "codemirror_mode": {
    "name": "ipython",
    "version": 3
   },
   "file_extension": ".py",
   "mimetype": "text/x-python",
   "name": "python",
   "nbconvert_exporter": "python",
   "pygments_lexer": "ipython3",
   "version": "3.7.4"
  }
 },
 "nbformat": 4,
 "nbformat_minor": 4
}
