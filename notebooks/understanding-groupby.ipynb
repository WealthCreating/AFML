{
 "cells": [
  {
   "cell_type": "code",
   "execution_count": 65,
   "metadata": {},
   "outputs": [],
   "source": [
    "\n",
    "df = pd.DataFrame([('bird', 'Falconiformes', 389.0),\n",
    "                  ('bird', 'Psittaciformes', 24.0),\n",
    "                  ('mammal', 'Carnivora', 80.2),\n",
    "                  ('mammal', 'Primates', np.nan),\n",
    "                  ('mammal', 'Carnivora', 58)],\n",
    "                #  index=['falcon', 'parrot', 'lion', 'monkey', 'leopard'],\n",
    "                 columns=('class', 'order', 'max_speed'))"
   ]
  },
  {
   "cell_type": "code",
   "execution_count": 66,
   "metadata": {},
   "outputs": [
    {
     "output_type": "execute_result",
     "data": {
      "text/plain": "    class           order  max_speed\n0    bird   Falconiformes      389.0\n1    bird  Psittaciformes       24.0\n2  mammal       Carnivora       80.2\n3  mammal        Primates        NaN\n4  mammal       Carnivora       58.0",
      "text/html": "<div>\n<style scoped>\n    .dataframe tbody tr th:only-of-type {\n        vertical-align: middle;\n    }\n\n    .dataframe tbody tr th {\n        vertical-align: top;\n    }\n\n    .dataframe thead th {\n        text-align: right;\n    }\n</style>\n<table border=\"1\" class=\"dataframe\">\n  <thead>\n    <tr style=\"text-align: right;\">\n      <th></th>\n      <th>class</th>\n      <th>order</th>\n      <th>max_speed</th>\n    </tr>\n  </thead>\n  <tbody>\n    <tr>\n      <th>0</th>\n      <td>bird</td>\n      <td>Falconiformes</td>\n      <td>389.0</td>\n    </tr>\n    <tr>\n      <th>1</th>\n      <td>bird</td>\n      <td>Psittaciformes</td>\n      <td>24.0</td>\n    </tr>\n    <tr>\n      <th>2</th>\n      <td>mammal</td>\n      <td>Carnivora</td>\n      <td>80.2</td>\n    </tr>\n    <tr>\n      <th>3</th>\n      <td>mammal</td>\n      <td>Primates</td>\n      <td>NaN</td>\n    </tr>\n    <tr>\n      <th>4</th>\n      <td>mammal</td>\n      <td>Carnivora</td>\n      <td>58.0</td>\n    </tr>\n  </tbody>\n</table>\n</div>"
     },
     "metadata": {},
     "execution_count": 66
    }
   ],
   "source": [
    "df"
   ]
  },
  {
   "cell_type": "code",
   "execution_count": 78,
   "metadata": {},
   "outputs": [],
   "source": [
    "grp = df.groupby('class', as_index=False)"
   ]
  },
  {
   "cell_type": "code",
   "execution_count": 79,
   "metadata": {},
   "outputs": [
    {
     "output_type": "execute_result",
     "data": {
      "text/plain": "    class  max_speed\n0    bird      413.0\n1  mammal      138.2",
      "text/html": "<div>\n<style scoped>\n    .dataframe tbody tr th:only-of-type {\n        vertical-align: middle;\n    }\n\n    .dataframe tbody tr th {\n        vertical-align: top;\n    }\n\n    .dataframe thead th {\n        text-align: right;\n    }\n</style>\n<table border=\"1\" class=\"dataframe\">\n  <thead>\n    <tr style=\"text-align: right;\">\n      <th></th>\n      <th>class</th>\n      <th>max_speed</th>\n    </tr>\n  </thead>\n  <tbody>\n    <tr>\n      <th>0</th>\n      <td>bird</td>\n      <td>413.0</td>\n    </tr>\n    <tr>\n      <th>1</th>\n      <td>mammal</td>\n      <td>138.2</td>\n    </tr>\n  </tbody>\n</table>\n</div>"
     },
     "metadata": {},
     "execution_count": 79
    }
   ],
   "source": [
    "grp.aggregate(np.sum)"
   ]
  },
  {
   "cell_type": "code",
   "execution_count": 80,
   "metadata": {},
   "outputs": [],
   "source": [
    "grp = df.groupby('class', as_index=True)"
   ]
  },
  {
   "cell_type": "code",
   "execution_count": 81,
   "metadata": {},
   "outputs": [
    {
     "output_type": "execute_result",
     "data": {
      "text/plain": "        max_speed\nclass            \nbird        413.0\nmammal      138.2",
      "text/html": "<div>\n<style scoped>\n    .dataframe tbody tr th:only-of-type {\n        vertical-align: middle;\n    }\n\n    .dataframe tbody tr th {\n        vertical-align: top;\n    }\n\n    .dataframe thead th {\n        text-align: right;\n    }\n</style>\n<table border=\"1\" class=\"dataframe\">\n  <thead>\n    <tr style=\"text-align: right;\">\n      <th></th>\n      <th>max_speed</th>\n    </tr>\n    <tr>\n      <th>class</th>\n      <th></th>\n    </tr>\n  </thead>\n  <tbody>\n    <tr>\n      <th>bird</th>\n      <td>413.0</td>\n    </tr>\n    <tr>\n      <th>mammal</th>\n      <td>138.2</td>\n    </tr>\n  </tbody>\n</table>\n</div>"
     },
     "metadata": {},
     "execution_count": 81
    }
   ],
   "source": [
    "grp.aggregate(np.sum)"
   ]
  },
  {
   "cell_type": "code",
   "execution_count": 82,
   "metadata": {},
   "outputs": [],
   "source": [
    "def inc_speed(df):\n",
    "    df['inc_speed'] = df['max_speed']*2\n",
    "    return df"
   ]
  },
  {
   "cell_type": "code",
   "execution_count": 83,
   "metadata": {},
   "outputs": [
    {
     "output_type": "execute_result",
     "data": {
      "text/plain": "    class           order  max_speed  inc_speed\n0    bird   Falconiformes      389.0      778.0\n1    bird  Psittaciformes       24.0       48.0\n2  mammal       Carnivora       80.2      160.4\n3  mammal        Primates        NaN        NaN\n4  mammal       Carnivora       58.0      116.0",
      "text/html": "<div>\n<style scoped>\n    .dataframe tbody tr th:only-of-type {\n        vertical-align: middle;\n    }\n\n    .dataframe tbody tr th {\n        vertical-align: top;\n    }\n\n    .dataframe thead th {\n        text-align: right;\n    }\n</style>\n<table border=\"1\" class=\"dataframe\">\n  <thead>\n    <tr style=\"text-align: right;\">\n      <th></th>\n      <th>class</th>\n      <th>order</th>\n      <th>max_speed</th>\n      <th>inc_speed</th>\n    </tr>\n  </thead>\n  <tbody>\n    <tr>\n      <th>0</th>\n      <td>bird</td>\n      <td>Falconiformes</td>\n      <td>389.0</td>\n      <td>778.0</td>\n    </tr>\n    <tr>\n      <th>1</th>\n      <td>bird</td>\n      <td>Psittaciformes</td>\n      <td>24.0</td>\n      <td>48.0</td>\n    </tr>\n    <tr>\n      <th>2</th>\n      <td>mammal</td>\n      <td>Carnivora</td>\n      <td>80.2</td>\n      <td>160.4</td>\n    </tr>\n    <tr>\n      <th>3</th>\n      <td>mammal</td>\n      <td>Primates</td>\n      <td>NaN</td>\n      <td>NaN</td>\n    </tr>\n    <tr>\n      <th>4</th>\n      <td>mammal</td>\n      <td>Carnivora</td>\n      <td>58.0</td>\n      <td>116.0</td>\n    </tr>\n  </tbody>\n</table>\n</div>"
     },
     "metadata": {},
     "execution_count": 83
    }
   ],
   "source": [
    "df.groupby('class', as_index=False).apply(inc_speed)"
   ]
  },
  {
   "cell_type": "code",
   "execution_count": 84,
   "metadata": {},
   "outputs": [
    {
     "output_type": "execute_result",
     "data": {
      "text/plain": "    class           order  max_speed  inc_speed\n0    bird   Falconiformes      389.0      778.0\n1    bird  Psittaciformes       24.0       48.0\n2  mammal       Carnivora       80.2      160.4\n3  mammal        Primates        NaN        NaN\n4  mammal       Carnivora       58.0      116.0",
      "text/html": "<div>\n<style scoped>\n    .dataframe tbody tr th:only-of-type {\n        vertical-align: middle;\n    }\n\n    .dataframe tbody tr th {\n        vertical-align: top;\n    }\n\n    .dataframe thead th {\n        text-align: right;\n    }\n</style>\n<table border=\"1\" class=\"dataframe\">\n  <thead>\n    <tr style=\"text-align: right;\">\n      <th></th>\n      <th>class</th>\n      <th>order</th>\n      <th>max_speed</th>\n      <th>inc_speed</th>\n    </tr>\n  </thead>\n  <tbody>\n    <tr>\n      <th>0</th>\n      <td>bird</td>\n      <td>Falconiformes</td>\n      <td>389.0</td>\n      <td>778.0</td>\n    </tr>\n    <tr>\n      <th>1</th>\n      <td>bird</td>\n      <td>Psittaciformes</td>\n      <td>24.0</td>\n      <td>48.0</td>\n    </tr>\n    <tr>\n      <th>2</th>\n      <td>mammal</td>\n      <td>Carnivora</td>\n      <td>80.2</td>\n      <td>160.4</td>\n    </tr>\n    <tr>\n      <th>3</th>\n      <td>mammal</td>\n      <td>Primates</td>\n      <td>NaN</td>\n      <td>NaN</td>\n    </tr>\n    <tr>\n      <th>4</th>\n      <td>mammal</td>\n      <td>Carnivora</td>\n      <td>58.0</td>\n      <td>116.0</td>\n    </tr>\n  </tbody>\n</table>\n</div>"
     },
     "metadata": {},
     "execution_count": 84
    }
   ],
   "source": [
    "df.groupby('class', as_index=True).apply(inc_speed)"
   ]
  },
  {
   "cell_type": "code",
   "execution_count": null,
   "metadata": {},
   "outputs": [],
   "source": []
  }
 ],
 "metadata": {
  "language_info": {
   "codemirror_mode": {
    "name": "ipython",
    "version": 3
   },
   "file_extension": ".py",
   "mimetype": "text/x-python",
   "name": "python",
   "nbconvert_exporter": "python",
   "pygments_lexer": "ipython3",
   "version": "3.7.4-final"
  },
  "orig_nbformat": 2,
  "kernelspec": {
   "name": "python37464bitafmlvenvc7329fc4ec4c463eb5286d30ad3c7824",
   "display_name": "Python 3.7.4 64-bit ('afml': venv)"
  }
 },
 "nbformat": 4,
 "nbformat_minor": 2
}